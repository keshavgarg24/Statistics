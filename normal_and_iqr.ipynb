{
 "cells": [
  {
   "cell_type": "code",
   "execution_count": 1,
   "id": "285aebdb-7759-479f-bcdc-daa182e56386",
   "metadata": {},
   "outputs": [],
   "source": [
    "import numpy as np \n",
    "import matplotlib.pyplot as plt\n",
    "%matplotlib inline"
   ]
  },
  {
   "cell_type": "code",
   "execution_count": 5,
   "id": "692d3de7-3c92-4934-8acb-4e691319e857",
   "metadata": {},
   "outputs": [],
   "source": [
    "# dataset \n",
    "dataset= [11,10,12,14,12,15,14,13,15,102,12,14,17,19,107, 10,13,12,14,12,108,12,11,14,13,15,10,15,12,10,14,13,15,10]"
   ]
  },
  {
   "cell_type": "code",
   "execution_count": 6,
   "id": "b0ff3025-a95e-4303-a135-563ebc3766e4",
   "metadata": {},
   "outputs": [
    {
     "data": {
      "text/plain": [
       "(array([31.,  0.,  0.,  0.,  0.,  0.,  0.,  0.,  0.,  3.]),\n",
       " array([ 10. ,  19.8,  29.6,  39.4,  49.2,  59. ,  68.8,  78.6,  88.4,\n",
       "         98.2, 108. ]),\n",
       " <BarContainer object of 10 artists>)"
      ]
     },
     "execution_count": 6,
     "metadata": {},
     "output_type": "execute_result"
    },
    {
     "data": {
      "image/png": "[encoded data removed]",
      "text/plain": [
       "<Figure size 640x480 with 1 Axes>"
      ]
     },
     "metadata": {},
     "output_type": "display_data"
    }
   ],
   "source": [
    "plt.hist(dataset)"
   ]
  },
  {
   "cell_type": "code",
   "execution_count": 7,
   "id": "b774d7a3-3740-41c9-a232-2ee96082f8d9",
   "metadata": {},
   "outputs": [],
   "source": [
    "# NORMAL DISTRIBUTION AND FINDING OUTLIERS "
   ]
  },
  {
   "cell_type": "code",
   "execution_count": 13,
   "id": "5aeffe34-33c9-4155-8826-bdf32092fb04",
   "metadata": {},
   "outputs": [],
   "source": [
    "outliers = []\n",
    "\n",
    "# finding the outliers by using z score formula \n",
    "def detect_outliers(data):\n",
    "    thresh = 3 ## third std deviation , z score which are above and below that are outliers \n",
    "    mean = np.mean(data)\n",
    "    std = np.std(data)\n",
    "\n",
    "    for i in data:\n",
    "        z_score = (i-mean)/std\n",
    "        if abs(z_score) > thresh:\n",
    "            outliers.append(i)\n",
    "\n",
    "    return outliers "
   ]
  },
  {
   "cell_type": "code",
   "execution_count": 14,
   "id": "41b83db5-bacd-4af1-b77f-fea678212d90",
   "metadata": {},
   "outputs": [
    {
     "name": "stdout",
     "output_type": "stream",
     "text": [
      "outliers :  [102, 107, 108]\n"
     ]
    }
   ],
   "source": [
    "outliers = detect_outliers(dataset)\n",
    "print(\"outliers : \" , outliers)"
   ]
  },
  {
   "cell_type": "code",
   "execution_count": 16,
   "id": "3db9ce44-865e-494f-a4f8-45f81c43cef5",
   "metadata": {},
   "outputs": [],
   "source": [
    "# finding outliers using IQR \n",
    "# IQR = Q3(75%) - Q1(25%)"
   ]
  },
  {
   "cell_type": "code",
   "execution_count": 20,
   "id": "e3edbbe8-13ed-42c6-9fdc-0e2e7518f6c7",
   "metadata": {},
   "outputs": [],
   "source": [
    "outliers2 = []\n",
    "\n",
    "def detect_outliers_iqr(data):\n",
    "    data = sorted(data)\n",
    "    Q1 = np.percentile(data, 25)\n",
    "    Q3 = np.percentile(data, 75)\n",
    "    IQR = Q3 - Q1\n",
    "    lower = Q1 - (1.5*IQR)\n",
    "    upper = Q3 + (1.5*IQR)\n",
    "\n",
    "    for i in data:\n",
    "        if i < lower or i > upper:\n",
    "            outliers2.append(i)\n",
    "\n",
    "    return outliers2 "
   ]
  },
  {
   "cell_type": "code",
   "execution_count": 22,
   "id": "ee5b4703-a943-4b88-84af-93194cf150a3",
   "metadata": {},
   "outputs": [
    {
     "name": "stdout",
     "output_type": "stream",
     "text": [
      "outliers by IQR :  [102, 107, 108]\n"
     ]
    }
   ],
   "source": [
    "outliers2 = detect_outliers_iqr(dataset)\n",
    "print(\"outliers by IQR : \" , outliers2)"
   ]
  },
  {
   "cell_type": "code",
   "execution_count": 24,
   "id": "297c73e9-c0d1-4286-9549-fa1a47c60bce",
   "metadata": {},
   "outputs": [],
   "source": [
    "import seaborn as sns "
   ]
  },
  {
   "cell_type": "code",
   "execution_count": 25,
   "id": "18dbfbe3-6e99-498d-861e-5539843b89ec",
   "metadata": {},
   "outputs": [
    {
     "data": {
      "text/plain": [
       "<Axes: >"
      ]
     },
     "execution_count": 25,
     "metadata": {},
     "output_type": "execute_result"
    },
    {
     "data": {
      "image/png": "[encoded data removed]",
      "text/plain": [
       "<Figure size 640x480 with 1 Axes>"
      ]
     },
     "metadata": {},
     "output_type": "display_data"
    }
   ],
   "source": [
    "sns.boxplot(dataset)"
   ]
  },
  {
   "cell_type": "code",
   "execution_count": null,
   "id": "a24c736e-5c97-4f40-834a-3658f148e743",
   "metadata": {},
   "outputs": [],
   "source": []
  }
 ],
 "metadata": {
  "kernelspec": {
   "display_name": "Python 3 (ipykernel)",
   "language": "python",
   "name": "python3"
  },
  "language_info": {
   "codemirror_mode": {
    "name": "ipython",
    "version": 3
   },
   "file_extension": ".py",
   "mimetype": "text/x-python",
   "name": "python",
   "nbconvert_exporter": "python",
   "pygments_lexer": "ipython3",
   "version": "3.11.7"
  }
 },
 "nbformat": 4,
 "nbformat_minor": 5
}
